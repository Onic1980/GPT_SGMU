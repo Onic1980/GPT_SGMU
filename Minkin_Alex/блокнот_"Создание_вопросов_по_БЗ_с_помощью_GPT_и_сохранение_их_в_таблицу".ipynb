{
  "cells": [
    {
      "cell_type": "markdown",
      "metadata": {
        "id": "QsFGkXMMwcX3"
      },
      "source": [
        "# Code"
      ]
    },
    {
      "cell_type": "markdown",
      "metadata": {
        "id": "bCb0s1_XVXz5"
      },
      "source": [
        "## Установка библиотек и функций"
      ]
    },
    {
      "cell_type": "code",
      "execution_count": null,
      "metadata": {
        "cellView": "form",
        "id": "-nH2KyinoxhE"
      },
      "outputs": [],
      "source": [
        "#@title Установка и импорт библиотек\n",
        "!pip  install  tiktoken==0.4.0  langchain==0.0.231 openai==0.27.8 faiss-cpu==1.7.4 gspread oauth2client nltk pydantic==1.10.8 openpyxl"
      ]
    },
    {
      "cell_type": "code",
      "execution_count": null,
      "metadata": {
        "id": "wNTJkb02qexK"
      },
      "outputs": [],
      "source": [
        "import gdown\n",
        "from langchain.llms import OpenAI\n",
        "from langchain.docstore.document import Document\n",
        "import requests\n",
        "#database\n",
        "from langchain.text_splitter import RecursiveCharacterTextSplitter\n",
        "from langchain.text_splitter import MarkdownHeaderTextSplitter\n",
        "from langchain.text_splitter import CharacterTextSplitter\n",
        "import re\n",
        "from langchain.document_loaders import TextLoader\n",
        "import ipywidgets as widgets\n",
        "import gspread\n",
        "import re\n",
        "import getpass\n",
        "import os\n",
        "import openai\n",
        "import tiktoken\n",
        "from io import BytesIO\n",
        "import openpyxl\n",
        "import pandas as pd\n",
        "from tqdm.auto import tqdm\n",
        "import IPython"
      ]
    },
    {
      "cell_type": "code",
      "execution_count": null,
      "metadata": {
        "id": "Lh42jUHVy3fq"
      },
      "outputs": [],
      "source": [
        "MODEL_GPT_3_5_TURBO_16K = ['gpt-3.5-turbo-1106', 0.001, 0.002]  # 16K context window, [1], [2] - price per 1k tokens\n",
        "MODEL_GPT_3_5_TURBO = ['gpt-3.5-turbo-0613', 0.0015, 0.002]  # 4,096 tokens, Shutdown date 2024-06-13\n",
        "MODEL_GPT_3_5_TURBO_INSTRUCT = ['gpt-3.5-turbo-instruct', 0.0015, 0.002]  # 4,096 tokens\n",
        "MODEL_GPT_4 = ['gpt-4', 0.03, 0.06]  # 8,192 tokens\n",
        "MODEL_GPT_4_TURBO = ['gpt-4-1106-preview', 0.01, 0.03]  # 128k tokens\tcontent\n",
        "SELECT_MODEL_GPT = MODEL_GPT_3_5_TURBO_16K # выбери нужную модель"
      ]
    },
    {
      "cell_type": "code",
      "execution_count": null,
      "metadata": {
        "colab": {
          "base_uri": "https://localhost:8080/"
        },
        "id": "jSdHAWANqs7C",
        "outputId": "43da6681-c8c5-478f-f84a-9b161c34d224"
      },
      "outputs": [],
      "source": [
        "openai_key = getpass.getpass(\"OpenAI API Key:\")\n",
        "os.environ[\"OPENAI_API_KEY\"] = openai_key\n",
        "openai.api_key = openai_key"
      ]
    },
    {
      "cell_type": "markdown",
      "metadata": {
        "id": "wUoSXo-m0N7x"
      },
      "source": [
        "Для загрузки переменных окружения также можно использовать python-dotenv. Просто создайте файл .env и определите в нем переменную OPENAI_API_KEY = \"ваш ключ OPENAI_API_KEY\"."
      ]
    },
    {
      "cell_type": "code",
      "execution_count": null,
      "metadata": {
        "id": "vL48MND60M6J"
      },
      "outputs": [],
      "source": [
        "# load_dotenv()\n",
        "\n",
        "# # API configuration\n",
        "# openai.api_key = os.getenv(\"OPENAI_API_KEY\")\n",
        "\n",
        "# # for LangChain\n",
        "# os.environ[\"OPENAI_API_KEY\"] = os.getenv(\"OPENAI_API_KEY\")\n",
        "# os.environ[\"SERPER_API_KEY\"] = os.getenv(\"SERPER_API_KEY\")"
      ]
    },
    {
      "cell_type": "code",
      "execution_count": null,
      "metadata": {
        "id": "Olbp2uEW197d"
      },
      "outputs": [],
      "source": [
        "#@title функция подсчета токенов в строке\n",
        "def num_tokens_from_string(string: str, encoding_name: str) -> int:\n",
        "      \"\"\"Returns the number of tokens in a text string.\"\"\"\n",
        "      encoding = tiktoken.get_encoding(encoding_name)\n",
        "      num_tokens = len(encoding.encode(string))\n",
        "      return num_tokens"
      ]
    },
    {
      "cell_type": "code",
      "execution_count": null,
      "metadata": {
        "id": "1YFsrIhi4Yct"
      },
      "outputs": [],
      "source": [
        "#@title функция для загрузки документа по ссылке из гугл драйв\n",
        "def load_document_text(url: str) -> str:\n",
        "    # Extract the document ID from the URL\n",
        "    match_ = re.search('/document/d/([a-zA-Z0-9-_]+)', url)\n",
        "    if match_ is None:\n",
        "        raise ValueError('Invalid Google Docs URL')\n",
        "    doc_id = match_.group(1)\n",
        "\n",
        "    # Download the document as plain text\n",
        "    response = requests.get(f'https://docs.google.com/document/d/{doc_id}/export?format=txt')\n",
        "    response.raise_for_status()\n",
        "    text = response.text\n",
        "\n",
        "    return text"
      ]
    },
    {
      "cell_type": "code",
      "execution_count": null,
      "metadata": {
        "id": "tcaQWY3RnbgS"
      },
      "outputs": [],
      "source": [
        "#@title  функция для загрузки txt файла по ссылке\n",
        "def load_text(url: str) -> str:\n",
        "    # Download the document as plain text\n",
        "    response = requests.get(url)\n",
        "    response.raise_for_status()\n",
        "    text = response.text\n",
        "\n",
        "    return text"
      ]
    },
    {
      "cell_type": "code",
      "execution_count": null,
      "metadata": {
        "id": "fK-Lbj6NGRNz"
      },
      "outputs": [],
      "source": [
        "#@title  Функция деления БЗ на чанки с помощью MarkdownHeaderTextSplitter\n",
        "def MD_split_documents(file_path: str) -> str:\n",
        "    # Чтение текстового файла\n",
        "    with open(file_path, 'r', encoding='utf-8') as file:\n",
        "        text = file.read()\n",
        "\n",
        "    headers_to_split_on = [\n",
        "        (\"#\", \"Header1\"),\n",
        "        (\"##\", \"Header2\"),\n",
        "        (\"###\", \"Header3\"),\n",
        "        (\"####\", \"Header4\"),\n",
        "    ]\n",
        "\n",
        "    markdown_splitter = MarkdownHeaderTextSplitter(headers_to_split_on=headers_to_split_on)\n",
        "    documents = markdown_splitter.split_text(text)\n",
        "\n",
        "    return documents"
      ]
    },
    {
      "cell_type": "code",
      "execution_count": null,
      "metadata": {
        "id": "NBUpulGKUkvc"
      },
      "outputs": [],
      "source": [
        "# @title функция для загрузки таблицы по ссылке из гугл драйв\n",
        "#def load_xls_pd(url: str) -> str:\n",
        "def load_xls_pd(url: str, sheet_name: str = 0) -> str:\n",
        "\n",
        "    # Extract the document ID from the URL\n",
        "    match_ = re.search('/spreadsheets/d/([a-zA-Z0-9-_]+)', url)\n",
        "    if match_ is None:\n",
        "        raise ValueError('Invalid Google Sheets URL')\n",
        "    doc_id = match_.group(1)\n",
        "\n",
        "    if sheet_name is None:\n",
        "        raise ValueError('Invalid sheet_name')\n",
        "\n",
        "    # Download the table as pandas\n",
        "    response = requests.get(f'https://docs.google.com/spreadsheets/d/{doc_id}/export?format=xlsx')\n",
        "    response.raise_for_status()     #проверяет статус код ответа. Если получен ответ с кодом ошибки (4xx или 5xx), вызывается исключение HTTPError.\n",
        "    #data = pd.read_excel(BytesIO(response.content), sheet_name=0)  #чтение первого листа из книги\n",
        "    data = pd.read_excel(BytesIO(response.content),sheet_name = sheet_name, header=None) #чтение конкретного листа из Книги Excel\n",
        "\n",
        "    return data"
      ]
    },
    {
      "cell_type": "markdown",
      "metadata": {
        "id": "KvaMsWU6WcUA"
      },
      "source": [
        "### Функция запроса к ChatGPT"
      ]
    },
    {
      "cell_type": "code",
      "execution_count": null,
      "metadata": {
        "id": "5IGQVI1_HjJ9"
      },
      "outputs": [],
      "source": [
        "def answer_index(doc, temp=1.0):\n",
        "\n",
        "        input_text = f'{doc.page_content}'\n",
        "\n",
        "        messages = [\n",
        "            {\"role\": \"system\", \"content\": prompt},\n",
        "            {\"role\": \"user\", \"content\": f\"Часть базы знаний для составления вопросов:\\n{input_text}\"}\n",
        "            ]\n",
        "\n",
        "        completion = openai.ChatCompletion.create(\n",
        "            model=SELECT_MODEL_GPT[0],\n",
        "            messages=messages,\n",
        "            temperature=temp\n",
        "            )\n",
        "        # подсчет стоимости запроса, можно раскоментировать\n",
        "        # print(f'{completion[\"usage\"][\"total_tokens\"]} токенов использовано всего (вопрос-ответ).')\n",
        "        # print('ЦЕНА запроса с ответом :', (SELECT_MODEL_GPT[1])*(completion[\"usage\"][\"prompt_tokens\"]/1000) + (SELECT_MODEL_GPT[2])*(completion[\"usage\"][\"completion_tokens\"]/1000), ' $')\n",
        "        # print('===========================================: \\n')\n",
        "\n",
        "        answer = completion.choices[0].message.content\n",
        "\n",
        "        # import IPython\n",
        "        # IPython.display.Markdown(answer)\n",
        "\n",
        "        return  answer"
      ]
    },
    {
      "cell_type": "code",
      "execution_count": null,
      "metadata": {
        "id": "g3mw1qPpUwrs"
      },
      "outputs": [],
      "source": [
        "# @title Загрузка таблицы для тестирования\n",
        "# Шаг 1: Загрузить xlsx файл из Google Drive\n",
        "google_sheet_url = \"https://docs.google.com/spreadsheets/d/1U4J6GgcamnRmV7mjhcbXxhTIsJwOVyKPqAVnimcHtR0/edit?usp=sharing\"\n",
        "sheet_name='Вопросы для тестирования'     # вставить название листа для заполнения вопросами\n",
        "\n",
        "#data = load_xls_pd(google_sheet_url)   #если в таблице только один лист\n",
        "df = load_xls_pd(google_sheet_url, sheet_name)"
      ]
    },
    {
      "cell_type": "code",
      "execution_count": null,
      "metadata": {
        "id": "Dmkq48x4U6p_"
      },
      "outputs": [],
      "source": [
        "# проверка\n",
        "df.head()"
      ]
    },
    {
      "cell_type": "code",
      "execution_count": null,
      "metadata": {
        "id": "S0drsewsVAt4"
      },
      "outputs": [],
      "source": [
        "# установить первую строку в виде строки заголовков столбцов\n",
        "df.set_axis(df.iloc[0], axis='columns', inplace=True)\n",
        "# проверка\n",
        "df.info()\n",
        "df.head()"
      ]
    },
    {
      "cell_type": "code",
      "execution_count": null,
      "metadata": {
        "id": "thCybnl4gydb"
      },
      "outputs": [],
      "source": [
        "#df['Чанки'] = pd.Series(dtype=str)   # так можно добавить столбец \"Чанки\", если его нет"
      ]
    },
    {
      "cell_type": "code",
      "execution_count": null,
      "metadata": {
        "id": "aUIzGf_oixHO"
      },
      "outputs": [],
      "source": [
        "#df = df.drop('Чанки', axis=1)         # а так можно удалить столбец"
      ]
    },
    {
      "cell_type": "code",
      "execution_count": null,
      "metadata": {
        "id": "htmUaYgWh64I"
      },
      "outputs": [],
      "source": [
        "#df.insert(loc=10, column='Чанки', value='') #2ой способ добавить пустой столбец \"Чанки\", если он отсутствует 11 столбцом"
      ]
    },
    {
      "cell_type": "markdown",
      "metadata": {
        "id": "igbEp0T6j_Yx"
      },
      "source": [
        "### Здесь можно загрузить или написать промпт"
      ]
    },
    {
      "cell_type": "code",
      "execution_count": null,
      "metadata": {
        "id": "YCBakZx6qtVM"
      },
      "outputs": [],
      "source": [
        "# prompt = load_text('https://raw.githubusercontent.com/terrainternship/GPT_Saratov_med_g/main/Minkin_Alex/prompt_for_question.txt')"
      ]
    },
    {
      "cell_type": "code",
      "execution_count": null,
      "metadata": {
        "id": "GR2ooko7jrTZ"
      },
      "outputs": [],
      "source": [
        "# IPython.display.Markdown(prompt)"
      ]
    },
    {
      "cell_type": "code",
      "execution_count": null,
      "metadata": {
        "id": "uPcppPFjJnVZ"
      },
      "outputs": [],
      "source": [
        "prompt = '''\n",
        "Есть следующее описание проекта:\n",
        "Цель проекта: Разработать информационного нейропомощника для паллиативных пациентов, их родственников и лиц, осуществляющих непосредственных уход.\n",
        "Описание проблемы: Оказание паллиативной медицинской помощи многокомпонентный процесс, включающий в себя непосредственные медицинские манипуляции, но психологическую работу врач-пациент. В настоящее время складывается ситуация, когда паллиативные пациенты и их родственники или другие лица, осуществляющие уход (опекун) остаются один на один с проблемой бремени заболевания без возможности доступа и верной информации. В частности не имеют четкого представления о перспективах заболевания, плане последовательности при маршрутизации пациентов с подобной проблемой, не знают о возможностях социальной поддержки государства и условиях ее получения и тд.\n",
        "Помоги мне придумать вопросы к части базы знаний, предоставленной ниже, для тестирования алгоритма работы и правильности составления базы знаний.\n",
        "Нужно придумать 3 вопроса. Вопросы должны быть максимально похожи на вопросы, заданные человеком о помощи паллиативным пациентам.\n",
        "Вопросы нумеровать не нужно. Кроме вопросов больше ничего предоставлять не нужно.\n",
        "'''"
      ]
    },
    {
      "cell_type": "markdown",
      "metadata": {
        "id": "5fEYnrJNq_xn"
      },
      "source": [
        "### Для выполнения запросов вручную"
      ]
    },
    {
      "cell_type": "code",
      "execution_count": null,
      "metadata": {
        "id": "oNhb3ocGq_I_"
      },
      "outputs": [],
      "source": [
        "# def run_dialog():\n",
        "\n",
        "#     while True:\n",
        "#         user_question = input('\\nКлиент: ')\n",
        "#         if ((user_question.lower() == 'stop') or (user_question.lower() == 'стоп')):\n",
        "#             break\n",
        "#         answer = answer_index(user_question)\n",
        "#         print('\\nМенеджер: ', answer + '\\n\\n')\n",
        "\n",
        "#     return\n"
      ]
    },
    {
      "cell_type": "code",
      "execution_count": null,
      "metadata": {
        "id": "ATxpWbOLr4aW"
      },
      "outputs": [],
      "source": [
        "# закоментируй для сохранения ответов и чанков в таблицу\n",
        "# verbose=1\n",
        "# run_dialog()"
      ]
    },
    {
      "cell_type": "markdown",
      "metadata": {
        "id": "1OcbK6V0WyZ9"
      },
      "source": [
        "## Сохранение ответов ChatGPT в таблицу"
      ]
    },
    {
      "cell_type": "markdown",
      "metadata": {
        "id": "eqKvdptPvmVb"
      },
      "source": [
        "### Предварительно нужно загрузить файл базы знаний 'database.md' в колаб"
      ]
    },
    {
      "cell_type": "code",
      "execution_count": null,
      "metadata": {
        "id": "9CrXhbfVqtP_"
      },
      "outputs": [],
      "source": [
        "#Если заново собирать векторную базу из базы знаний, то нужно раскоментировать этот код\n",
        "'''\n",
        "!git clone -b develop https://github.com/proekt-GPT.git\n",
        "!cp /content/proekt-GPT/knowledge/database.md /content/database.md\n",
        "!rm -r /content/proekt-GPT\n",
        "knowledge_base = load_file_knowledge('database.md')\n",
        "'''"
      ]
    },
    {
      "cell_type": "code",
      "execution_count": null,
      "metadata": {
        "id": "7kqqpMNpMJOD"
      },
      "outputs": [],
      "source": [
        "# загрузка БЗ с GitHub\n",
        "knowledgebase = load_text('https://raw.githubusercontent.com/terrainternship/GPT_Saratov_med_g/main/structured_data_base_081223_rtf.txt')\n",
        "\n",
        "# loader = TextLoader('https://raw.githubusercontent.com/terrainternship/GPT_Saratov_med_g/main/structured_data_base_081223_rtf.txt')\n",
        "\n",
        "# documents = loader.load()"
      ]
    },
    {
      "cell_type": "code",
      "execution_count": null,
      "metadata": {
        "colab": {
          "base_uri": "https://localhost:8080/",
          "height": 123
        },
        "id": "XmcmpHRcqB8_",
        "outputId": "0380cd00-3ff6-46ec-d38e-1a25a15186d6"
      },
      "outputs": [],
      "source": [
        "knowledgebase"
      ]
    },
    {
      "cell_type": "code",
      "execution_count": null,
      "metadata": {
        "id": "uJBO4oGQmSkm"
      },
      "outputs": [],
      "source": [
        "docs = []\n",
        "text_splitter = CharacterTextSplitter(separator=\"<chunk>\", chunk_size=1000, chunk_overlap=0)\n",
        "for chunk in text_splitter.split_text(knowledgebase):\n",
        "    docs.append(Document(page_content=chunk, metadata={}))"
      ]
    },
    {
      "cell_type": "code",
      "execution_count": null,
      "metadata": {
        "colab": {
          "base_uri": "https://localhost:8080/"
        },
        "id": "N-SeVwYYQndS",
        "outputId": "8d20c4f9-8966-4b2e-d951-c262f7a34716"
      },
      "outputs": [],
      "source": [
        "len(docs)     # количество чанков в базе"
      ]
    },
    {
      "cell_type": "markdown",
      "metadata": {
        "id": "25Lh1ubQKmr4"
      },
      "source": [
        "### можно проверить правильно ли сформированы чанки"
      ]
    },
    {
      "cell_type": "code",
      "execution_count": null,
      "metadata": {
        "colab": {
          "base_uri": "https://localhost:8080/"
        },
        "id": "EuPYrLf7Qtns",
        "outputId": "31a15f74-3aef-441c-df88-796052b7b7b4"
      },
      "outputs": [],
      "source": [
        "docs[1]"
      ]
    },
    {
      "cell_type": "code",
      "execution_count": null,
      "metadata": {
        "colab": {
          "base_uri": "https://localhost:8080/"
        },
        "id": "MynIkbUnSJxD",
        "outputId": "77c8d6a9-d05c-4976-ac62-2d5f73529ec4"
      },
      "outputs": [],
      "source": [
        "docs[0].metadata"
      ]
    },
    {
      "cell_type": "code",
      "execution_count": null,
      "metadata": {
        "id": "bKbfwgr_TV4h"
      },
      "outputs": [],
      "source": [
        "docs[0].page_content"
      ]
    },
    {
      "cell_type": "code",
      "execution_count": null,
      "metadata": {
        "colab": {
          "base_uri": "https://localhost:8080/"
        },
        "id": "EhJe47hHUxVC",
        "outputId": "6354a98a-4ebe-4bbb-e167-a563a15f6043"
      },
      "outputs": [],
      "source": [
        "type(docs[0])"
      ]
    },
    {
      "cell_type": "code",
      "execution_count": null,
      "metadata": {
        "id": "Dpum-S02fCaa"
      },
      "outputs": [],
      "source": [
        "df = df.iloc[0:0]   # удаление всех строк в таблице"
      ]
    },
    {
      "cell_type": "code",
      "execution_count": null,
      "metadata": {
        "colab": {
          "base_uri": "https://localhost:8080/",
          "height": 66,
          "referenced_widgets": [
            "26086bfe02984eec965c4ba2173f9261",
            "43b7cacffc7b4681ab9f71cf05137689",
            "6b51780a355344958153c872ad02102a",
            "7b1ee98673554950a2a8afb8f9977e5e",
            "f2147b6ac18c4f26bedb27a6fefa3c84",
            "807ff6ccdf7c4f23932a99df792c0cae",
            "084902d34da54b75af4088aa6c6ba90a",
            "f89d018431754eeab762fa0ebad7692f",
            "52b6901fc10c45a1bbfcd331509ce38d",
            "471c33e00a45445a95ad6b5ceca10f4f",
            "c9ba0a1f47ff4d7b954cca66c933b83c"
          ]
        },
        "id": "5dHcCxC5N3c9",
        "outputId": "5e084fe4-b26c-4c2e-dc8a-8b8cc836ff71"
      },
      "outputs": [],
      "source": [
        "# @title Запуск алгоритма создания вопросов и их запись в датафрейм\n",
        "count = 0   # Переменная для подсчета количества строк, обработанных по условию\n",
        "print('Количество обработанных запросов: ')\n",
        "# Цикл для обхода чанков\n",
        "for doc in tqdm(docs):\n",
        "        # Ваш код для обработки данных текущей строки\n",
        "        answers = answer_index(doc)\n",
        "        answers = answers.split('\\n') # Разделите строку на список строк по символу новой строки\n",
        "        # Удалить последние две строки, т.к. там GPT пишет лишнюю обобщенную информацию\n",
        "        # answers = answers[:-2]\n",
        "        # # Отделяем первую и вторую строки для раздела и подраздела, остальное для вопросов\n",
        "        # section, subsection, *questions = answers\n",
        "        # # Создаем DataFrame для каждого вопроса по отдельности\n",
        "        # frames = [pd.DataFrame({\"Раздел\": [section], \"Подраздел\": [subsection], \"Вопрос\": [question]})\n",
        "        #           for question in questions]\n",
        "        # Объединяем все DataFrame'ы в один\n",
        "        # Создайте новый DataFrame и присоедините его к существующему\n",
        "        new_rows = pd.DataFrame({\"Вопрос\": answers}, index = range(len(answers)))\n",
        "        # Добавляем новые строки в исходный DataFrame\n",
        "        df = pd.concat([df, new_rows], ignore_index=True)\n",
        "        # Увеличиваем значение счетчика и проверяем, достигли ли мы нужного количества запросов\n",
        "        count += 1\n",
        "        if count >= 10:          # можно ограничить количество задаваемых вопросов к ChatGPT\n",
        "            break"
      ]
    },
    {
      "cell_type": "code",
      "execution_count": null,
      "metadata": {
        "id": "zBdA0GORlBhz"
      },
      "outputs": [],
      "source": [
        "# df[df['Тема'] == 'Аксесуары'][['Вопрос', 'Ответ GPT', 'Чанки']].head(15)   #проверка записей в таблице"
      ]
    },
    {
      "cell_type": "code",
      "execution_count": null,
      "metadata": {
        "id": "9T2wQtoPm4an"
      },
      "outputs": [],
      "source": [
        "# df[(df['Тема'] == 'Аксесуары') & (df['Ответ GPT'].isna())].head(10) #проверка записей в таблице"
      ]
    },
    {
      "cell_type": "code",
      "execution_count": null,
      "metadata": {
        "colab": {
          "base_uri": "https://localhost:8080/",
          "height": 1000
        },
        "id": "SULGF7bNWv1T",
        "outputId": "d2cd5c33-9ae0-49a9-eecd-a1ab0b912e98"
      },
      "outputs": [],
      "source": [
        "df    # просмотр таблицы"
      ]
    },
    {
      "cell_type": "code",
      "execution_count": null,
      "metadata": {
        "id": "dlDc6nYZoMxA"
      },
      "outputs": [],
      "source": [
        "#@title Загрузка df в таблицу 'questions.xlsx'\n",
        "df.to_excel('questions.xlsx')"
      ]
    },
    {
      "cell_type": "markdown",
      "metadata": {
        "id": "Bntx6Rz3zUAu"
      },
      "source": [
        "Далее:\n",
        "- можно сохранить полученную таблицу на диск или скопировать в Гугл диск"
      ]
    }
  ],
  "metadata": {
    "colab": {
      "collapsed_sections": [
        "5fEYnrJNq_xn"
      ],
      "provenance": []
    },
    "kernelspec": {
      "display_name": "Python 3",
      "name": "python3"
    },
    "language_info": {
      "name": "python"
    },
    "widgets": {
      "application/vnd.jupyter.widget-state+json": {
        "084902d34da54b75af4088aa6c6ba90a": {
          "model_module": "@jupyter-widgets/controls",
          "model_module_version": "1.5.0",
          "model_name": "DescriptionStyleModel",
          "state": {
            "_model_module": "@jupyter-widgets/controls",
            "_model_module_version": "1.5.0",
            "_model_name": "DescriptionStyleModel",
            "_view_count": null,
            "_view_module": "@jupyter-widgets/base",
            "_view_module_version": "1.2.0",
            "_view_name": "StyleView",
            "description_width": ""
          }
        },
        "26086bfe02984eec965c4ba2173f9261": {
          "model_module": "@jupyter-widgets/controls",
          "model_module_version": "1.5.0",
          "model_name": "HBoxModel",
          "state": {
            "_dom_classes": [],
            "_model_module": "@jupyter-widgets/controls",
            "_model_module_version": "1.5.0",
            "_model_name": "HBoxModel",
            "_view_count": null,
            "_view_module": "@jupyter-widgets/controls",
            "_view_module_version": "1.5.0",
            "_view_name": "HBoxView",
            "box_style": "",
            "children": [
              "IPY_MODEL_43b7cacffc7b4681ab9f71cf05137689",
              "IPY_MODEL_6b51780a355344958153c872ad02102a",
              "IPY_MODEL_7b1ee98673554950a2a8afb8f9977e5e"
            ],
            "layout": "IPY_MODEL_f2147b6ac18c4f26bedb27a6fefa3c84"
          }
        },
        "43b7cacffc7b4681ab9f71cf05137689": {
          "model_module": "@jupyter-widgets/controls",
          "model_module_version": "1.5.0",
          "model_name": "HTMLModel",
          "state": {
            "_dom_classes": [],
            "_model_module": "@jupyter-widgets/controls",
            "_model_module_version": "1.5.0",
            "_model_name": "HTMLModel",
            "_view_count": null,
            "_view_module": "@jupyter-widgets/controls",
            "_view_module_version": "1.5.0",
            "_view_name": "HTMLView",
            "description": "",
            "description_tooltip": null,
            "layout": "IPY_MODEL_807ff6ccdf7c4f23932a99df792c0cae",
            "placeholder": "​",
            "style": "IPY_MODEL_084902d34da54b75af4088aa6c6ba90a",
            "value": "  9%"
          }
        },
        "471c33e00a45445a95ad6b5ceca10f4f": {
          "model_module": "@jupyter-widgets/base",
          "model_module_version": "1.2.0",
          "model_name": "LayoutModel",
          "state": {
            "_model_module": "@jupyter-widgets/base",
            "_model_module_version": "1.2.0",
            "_model_name": "LayoutModel",
            "_view_count": null,
            "_view_module": "@jupyter-widgets/base",
            "_view_module_version": "1.2.0",
            "_view_name": "LayoutView",
            "align_content": null,
            "align_items": null,
            "align_self": null,
            "border": null,
            "bottom": null,
            "display": null,
            "flex": null,
            "flex_flow": null,
            "grid_area": null,
            "grid_auto_columns": null,
            "grid_auto_flow": null,
            "grid_auto_rows": null,
            "grid_column": null,
            "grid_gap": null,
            "grid_row": null,
            "grid_template_areas": null,
            "grid_template_columns": null,
            "grid_template_rows": null,
            "height": null,
            "justify_content": null,
            "justify_items": null,
            "left": null,
            "margin": null,
            "max_height": null,
            "max_width": null,
            "min_height": null,
            "min_width": null,
            "object_fit": null,
            "object_position": null,
            "order": null,
            "overflow": null,
            "overflow_x": null,
            "overflow_y": null,
            "padding": null,
            "right": null,
            "top": null,
            "visibility": null,
            "width": null
          }
        },
        "52b6901fc10c45a1bbfcd331509ce38d": {
          "model_module": "@jupyter-widgets/controls",
          "model_module_version": "1.5.0",
          "model_name": "ProgressStyleModel",
          "state": {
            "_model_module": "@jupyter-widgets/controls",
            "_model_module_version": "1.5.0",
            "_model_name": "ProgressStyleModel",
            "_view_count": null,
            "_view_module": "@jupyter-widgets/base",
            "_view_module_version": "1.2.0",
            "_view_name": "StyleView",
            "bar_color": null,
            "description_width": ""
          }
        },
        "6b51780a355344958153c872ad02102a": {
          "model_module": "@jupyter-widgets/controls",
          "model_module_version": "1.5.0",
          "model_name": "FloatProgressModel",
          "state": {
            "_dom_classes": [],
            "_model_module": "@jupyter-widgets/controls",
            "_model_module_version": "1.5.0",
            "_model_name": "FloatProgressModel",
            "_view_count": null,
            "_view_module": "@jupyter-widgets/controls",
            "_view_module_version": "1.5.0",
            "_view_name": "ProgressView",
            "bar_style": "danger",
            "description": "",
            "description_tooltip": null,
            "layout": "IPY_MODEL_f89d018431754eeab762fa0ebad7692f",
            "max": 99,
            "min": 0,
            "orientation": "horizontal",
            "style": "IPY_MODEL_52b6901fc10c45a1bbfcd331509ce38d",
            "value": 9
          }
        },
        "7b1ee98673554950a2a8afb8f9977e5e": {
          "model_module": "@jupyter-widgets/controls",
          "model_module_version": "1.5.0",
          "model_name": "HTMLModel",
          "state": {
            "_dom_classes": [],
            "_model_module": "@jupyter-widgets/controls",
            "_model_module_version": "1.5.0",
            "_model_name": "HTMLModel",
            "_view_count": null,
            "_view_module": "@jupyter-widgets/controls",
            "_view_module_version": "1.5.0",
            "_view_name": "HTMLView",
            "description": "",
            "description_tooltip": null,
            "layout": "IPY_MODEL_471c33e00a45445a95ad6b5ceca10f4f",
            "placeholder": "​",
            "style": "IPY_MODEL_c9ba0a1f47ff4d7b954cca66c933b83c",
            "value": " 9/99 [00:26&lt;03:54,  2.61s/it]"
          }
        },
        "807ff6ccdf7c4f23932a99df792c0cae": {
          "model_module": "@jupyter-widgets/base",
          "model_module_version": "1.2.0",
          "model_name": "LayoutModel",
          "state": {
            "_model_module": "@jupyter-widgets/base",
            "_model_module_version": "1.2.0",
            "_model_name": "LayoutModel",
            "_view_count": null,
            "_view_module": "@jupyter-widgets/base",
            "_view_module_version": "1.2.0",
            "_view_name": "LayoutView",
            "align_content": null,
            "align_items": null,
            "align_self": null,
            "border": null,
            "bottom": null,
            "display": null,
            "flex": null,
            "flex_flow": null,
            "grid_area": null,
            "grid_auto_columns": null,
            "grid_auto_flow": null,
            "grid_auto_rows": null,
            "grid_column": null,
            "grid_gap": null,
            "grid_row": null,
            "grid_template_areas": null,
            "grid_template_columns": null,
            "grid_template_rows": null,
            "height": null,
            "justify_content": null,
            "justify_items": null,
            "left": null,
            "margin": null,
            "max_height": null,
            "max_width": null,
            "min_height": null,
            "min_width": null,
            "object_fit": null,
            "object_position": null,
            "order": null,
            "overflow": null,
            "overflow_x": null,
            "overflow_y": null,
            "padding": null,
            "right": null,
            "top": null,
            "visibility": null,
            "width": null
          }
        },
        "c9ba0a1f47ff4d7b954cca66c933b83c": {
          "model_module": "@jupyter-widgets/controls",
          "model_module_version": "1.5.0",
          "model_name": "DescriptionStyleModel",
          "state": {
            "_model_module": "@jupyter-widgets/controls",
            "_model_module_version": "1.5.0",
            "_model_name": "DescriptionStyleModel",
            "_view_count": null,
            "_view_module": "@jupyter-widgets/base",
            "_view_module_version": "1.2.0",
            "_view_name": "StyleView",
            "description_width": ""
          }
        },
        "f2147b6ac18c4f26bedb27a6fefa3c84": {
          "model_module": "@jupyter-widgets/base",
          "model_module_version": "1.2.0",
          "model_name": "LayoutModel",
          "state": {
            "_model_module": "@jupyter-widgets/base",
            "_model_module_version": "1.2.0",
            "_model_name": "LayoutModel",
            "_view_count": null,
            "_view_module": "@jupyter-widgets/base",
            "_view_module_version": "1.2.0",
            "_view_name": "LayoutView",
            "align_content": null,
            "align_items": null,
            "align_self": null,
            "border": null,
            "bottom": null,
            "display": null,
            "flex": null,
            "flex_flow": null,
            "grid_area": null,
            "grid_auto_columns": null,
            "grid_auto_flow": null,
            "grid_auto_rows": null,
            "grid_column": null,
            "grid_gap": null,
            "grid_row": null,
            "grid_template_areas": null,
            "grid_template_columns": null,
            "grid_template_rows": null,
            "height": null,
            "justify_content": null,
            "justify_items": null,
            "left": null,
            "margin": null,
            "max_height": null,
            "max_width": null,
            "min_height": null,
            "min_width": null,
            "object_fit": null,
            "object_position": null,
            "order": null,
            "overflow": null,
            "overflow_x": null,
            "overflow_y": null,
            "padding": null,
            "right": null,
            "top": null,
            "visibility": null,
            "width": null
          }
        },
        "f89d018431754eeab762fa0ebad7692f": {
          "model_module": "@jupyter-widgets/base",
          "model_module_version": "1.2.0",
          "model_name": "LayoutModel",
          "state": {
            "_model_module": "@jupyter-widgets/base",
            "_model_module_version": "1.2.0",
            "_model_name": "LayoutModel",
            "_view_count": null,
            "_view_module": "@jupyter-widgets/base",
            "_view_module_version": "1.2.0",
            "_view_name": "LayoutView",
            "align_content": null,
            "align_items": null,
            "align_self": null,
            "border": null,
            "bottom": null,
            "display": null,
            "flex": null,
            "flex_flow": null,
            "grid_area": null,
            "grid_auto_columns": null,
            "grid_auto_flow": null,
            "grid_auto_rows": null,
            "grid_column": null,
            "grid_gap": null,
            "grid_row": null,
            "grid_template_areas": null,
            "grid_template_columns": null,
            "grid_template_rows": null,
            "height": null,
            "justify_content": null,
            "justify_items": null,
            "left": null,
            "margin": null,
            "max_height": null,
            "max_width": null,
            "min_height": null,
            "min_width": null,
            "object_fit": null,
            "object_position": null,
            "order": null,
            "overflow": null,
            "overflow_x": null,
            "overflow_y": null,
            "padding": null,
            "right": null,
            "top": null,
            "visibility": null,
            "width": null
          }
        }
      }
    }
  },
  "nbformat": 4,
  "nbformat_minor": 0
}
