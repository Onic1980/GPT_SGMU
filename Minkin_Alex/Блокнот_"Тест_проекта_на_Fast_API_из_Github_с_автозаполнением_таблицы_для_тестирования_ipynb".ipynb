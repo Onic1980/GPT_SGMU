{
  "nbformat": 4,
  "nbformat_minor": 0,
  "metadata": {
    "colab": {
      "provenance": [],
      "toc_visible": true
    },
    "kernelspec": {
      "name": "python3",
      "display_name": "Python 3"
    },
    "language_info": {
      "name": "python"
    },
    "widgets": {
      "application/vnd.jupyter.widget-state+json": {
        "de919490daf848fbb9ef5658b00a4483": {
          "model_module": "@jupyter-widgets/controls",
          "model_name": "HBoxModel",
          "model_module_version": "1.5.0",
          "state": {
            "_dom_classes": [],
            "_model_module": "@jupyter-widgets/controls",
            "_model_module_version": "1.5.0",
            "_model_name": "HBoxModel",
            "_view_count": null,
            "_view_module": "@jupyter-widgets/controls",
            "_view_module_version": "1.5.0",
            "_view_name": "HBoxView",
            "box_style": "",
            "children": [
              "IPY_MODEL_a1bf13b599734045b35d7221a61d432e",
              "IPY_MODEL_7e7ff84785e146e888f2db8e0f10f948",
              "IPY_MODEL_aefca95c0b1e4c11be4123d78a8dca69"
            ],
            "layout": "IPY_MODEL_1f628dad32ec4e0498c11515d27c413c"
          }
        },
        "a1bf13b599734045b35d7221a61d432e": {
          "model_module": "@jupyter-widgets/controls",
          "model_name": "HTMLModel",
          "model_module_version": "1.5.0",
          "state": {
            "_dom_classes": [],
            "_model_module": "@jupyter-widgets/controls",
            "_model_module_version": "1.5.0",
            "_model_name": "HTMLModel",
            "_view_count": null,
            "_view_module": "@jupyter-widgets/controls",
            "_view_module_version": "1.5.0",
            "_view_name": "HTMLView",
            "description": "",
            "description_tooltip": null,
            "layout": "IPY_MODEL_a2ac40e2a1534264a168f7f430afdb78",
            "placeholder": "​",
            "style": "IPY_MODEL_f7770a35846c4fa99d1a37d764151cf4",
            "value": ""
          }
        },
        "7e7ff84785e146e888f2db8e0f10f948": {
          "model_module": "@jupyter-widgets/controls",
          "model_name": "FloatProgressModel",
          "model_module_version": "1.5.0",
          "state": {
            "_dom_classes": [],
            "_model_module": "@jupyter-widgets/controls",
            "_model_module_version": "1.5.0",
            "_model_name": "FloatProgressModel",
            "_view_count": null,
            "_view_module": "@jupyter-widgets/controls",
            "_view_module_version": "1.5.0",
            "_view_name": "ProgressView",
            "bar_style": "danger",
            "description": "",
            "description_tooltip": null,
            "layout": "IPY_MODEL_964b61617b374c0f92bdaa72fdc850d8",
            "max": 1,
            "min": 0,
            "orientation": "horizontal",
            "style": "IPY_MODEL_d5422e1d701145d1a85efad5836996cb",
            "value": 1
          }
        },
        "aefca95c0b1e4c11be4123d78a8dca69": {
          "model_module": "@jupyter-widgets/controls",
          "model_name": "HTMLModel",
          "model_module_version": "1.5.0",
          "state": {
            "_dom_classes": [],
            "_model_module": "@jupyter-widgets/controls",
            "_model_module_version": "1.5.0",
            "_model_name": "HTMLModel",
            "_view_count": null,
            "_view_module": "@jupyter-widgets/controls",
            "_view_module_version": "1.5.0",
            "_view_name": "HTMLView",
            "description": "",
            "description_tooltip": null,
            "layout": "IPY_MODEL_5458441b750e4db89c5a00ac8af4fb2c",
            "placeholder": "​",
            "style": "IPY_MODEL_e97ad3e406d14e109bbfefed1923079e",
            "value": " 27/? [00:34&lt;00:00,  1.60s/it]"
          }
        },
        "1f628dad32ec4e0498c11515d27c413c": {
          "model_module": "@jupyter-widgets/base",
          "model_name": "LayoutModel",
          "model_module_version": "1.2.0",
          "state": {
            "_model_module": "@jupyter-widgets/base",
            "_model_module_version": "1.2.0",
            "_model_name": "LayoutModel",
            "_view_count": null,
            "_view_module": "@jupyter-widgets/base",
            "_view_module_version": "1.2.0",
            "_view_name": "LayoutView",
            "align_content": null,
            "align_items": null,
            "align_self": null,
            "border": null,
            "bottom": null,
            "display": null,
            "flex": null,
            "flex_flow": null,
            "grid_area": null,
            "grid_auto_columns": null,
            "grid_auto_flow": null,
            "grid_auto_rows": null,
            "grid_column": null,
            "grid_gap": null,
            "grid_row": null,
            "grid_template_areas": null,
            "grid_template_columns": null,
            "grid_template_rows": null,
            "height": null,
            "justify_content": null,
            "justify_items": null,
            "left": null,
            "margin": null,
            "max_height": null,
            "max_width": null,
            "min_height": null,
            "min_width": null,
            "object_fit": null,
            "object_position": null,
            "order": null,
            "overflow": null,
            "overflow_x": null,
            "overflow_y": null,
            "padding": null,
            "right": null,
            "top": null,
            "visibility": null,
            "width": null
          }
        },
        "a2ac40e2a1534264a168f7f430afdb78": {
          "model_module": "@jupyter-widgets/base",
          "model_name": "LayoutModel",
          "model_module_version": "1.2.0",
          "state": {
            "_model_module": "@jupyter-widgets/base",
            "_model_module_version": "1.2.0",
            "_model_name": "LayoutModel",
            "_view_count": null,
            "_view_module": "@jupyter-widgets/base",
            "_view_module_version": "1.2.0",
            "_view_name": "LayoutView",
            "align_content": null,
            "align_items": null,
            "align_self": null,
            "border": null,
            "bottom": null,
            "display": null,
            "flex": null,
            "flex_flow": null,
            "grid_area": null,
            "grid_auto_columns": null,
            "grid_auto_flow": null,
            "grid_auto_rows": null,
            "grid_column": null,
            "grid_gap": null,
            "grid_row": null,
            "grid_template_areas": null,
            "grid_template_columns": null,
            "grid_template_rows": null,
            "height": null,
            "justify_content": null,
            "justify_items": null,
            "left": null,
            "margin": null,
            "max_height": null,
            "max_width": null,
            "min_height": null,
            "min_width": null,
            "object_fit": null,
            "object_position": null,
            "order": null,
            "overflow": null,
            "overflow_x": null,
            "overflow_y": null,
            "padding": null,
            "right": null,
            "top": null,
            "visibility": null,
            "width": null
          }
        },
        "f7770a35846c4fa99d1a37d764151cf4": {
          "model_module": "@jupyter-widgets/controls",
          "model_name": "DescriptionStyleModel",
          "model_module_version": "1.5.0",
          "state": {
            "_model_module": "@jupyter-widgets/controls",
            "_model_module_version": "1.5.0",
            "_model_name": "DescriptionStyleModel",
            "_view_count": null,
            "_view_module": "@jupyter-widgets/base",
            "_view_module_version": "1.2.0",
            "_view_name": "StyleView",
            "description_width": ""
          }
        },
        "964b61617b374c0f92bdaa72fdc850d8": {
          "model_module": "@jupyter-widgets/base",
          "model_name": "LayoutModel",
          "model_module_version": "1.2.0",
          "state": {
            "_model_module": "@jupyter-widgets/base",
            "_model_module_version": "1.2.0",
            "_model_name": "LayoutModel",
            "_view_count": null,
            "_view_module": "@jupyter-widgets/base",
            "_view_module_version": "1.2.0",
            "_view_name": "LayoutView",
            "align_content": null,
            "align_items": null,
            "align_self": null,
            "border": null,
            "bottom": null,
            "display": null,
            "flex": null,
            "flex_flow": null,
            "grid_area": null,
            "grid_auto_columns": null,
            "grid_auto_flow": null,
            "grid_auto_rows": null,
            "grid_column": null,
            "grid_gap": null,
            "grid_row": null,
            "grid_template_areas": null,
            "grid_template_columns": null,
            "grid_template_rows": null,
            "height": null,
            "justify_content": null,
            "justify_items": null,
            "left": null,
            "margin": null,
            "max_height": null,
            "max_width": null,
            "min_height": null,
            "min_width": null,
            "object_fit": null,
            "object_position": null,
            "order": null,
            "overflow": null,
            "overflow_x": null,
            "overflow_y": null,
            "padding": null,
            "right": null,
            "top": null,
            "visibility": null,
            "width": "20px"
          }
        },
        "d5422e1d701145d1a85efad5836996cb": {
          "model_module": "@jupyter-widgets/controls",
          "model_name": "ProgressStyleModel",
          "model_module_version": "1.5.0",
          "state": {
            "_model_module": "@jupyter-widgets/controls",
            "_model_module_version": "1.5.0",
            "_model_name": "ProgressStyleModel",
            "_view_count": null,
            "_view_module": "@jupyter-widgets/base",
            "_view_module_version": "1.2.0",
            "_view_name": "StyleView",
            "bar_color": null,
            "description_width": ""
          }
        },
        "5458441b750e4db89c5a00ac8af4fb2c": {
          "model_module": "@jupyter-widgets/base",
          "model_name": "LayoutModel",
          "model_module_version": "1.2.0",
          "state": {
            "_model_module": "@jupyter-widgets/base",
            "_model_module_version": "1.2.0",
            "_model_name": "LayoutModel",
            "_view_count": null,
            "_view_module": "@jupyter-widgets/base",
            "_view_module_version": "1.2.0",
            "_view_name": "LayoutView",
            "align_content": null,
            "align_items": null,
            "align_self": null,
            "border": null,
            "bottom": null,
            "display": null,
            "flex": null,
            "flex_flow": null,
            "grid_area": null,
            "grid_auto_columns": null,
            "grid_auto_flow": null,
            "grid_auto_rows": null,
            "grid_column": null,
            "grid_gap": null,
            "grid_row": null,
            "grid_template_areas": null,
            "grid_template_columns": null,
            "grid_template_rows": null,
            "height": null,
            "justify_content": null,
            "justify_items": null,
            "left": null,
            "margin": null,
            "max_height": null,
            "max_width": null,
            "min_height": null,
            "min_width": null,
            "object_fit": null,
            "object_position": null,
            "order": null,
            "overflow": null,
            "overflow_x": null,
            "overflow_y": null,
            "padding": null,
            "right": null,
            "top": null,
            "visibility": null,
            "width": null
          }
        },
        "e97ad3e406d14e109bbfefed1923079e": {
          "model_module": "@jupyter-widgets/controls",
          "model_name": "DescriptionStyleModel",
          "model_module_version": "1.5.0",
          "state": {
            "_model_module": "@jupyter-widgets/controls",
            "_model_module_version": "1.5.0",
            "_model_name": "DescriptionStyleModel",
            "_view_count": null,
            "_view_module": "@jupyter-widgets/base",
            "_view_module_version": "1.2.0",
            "_view_name": "StyleView",
            "description_width": ""
          }
        }
      }
    }
  },
  "cells": [
    {
      "cell_type": "markdown",
      "source": [
        "# Запуск сервера"
      ],
      "metadata": {
        "id": "pvnHBadMsSNA"
      }
    },
    {
      "cell_type": "code",
      "source": [
        "#@title Установка и импорт библиотек\n",
        "!pip  install  tiktoken langchain openai faiss-cpu gspread oauth2client nltk pydantic openpyxl fastapi requests pytz python-dotenv ngrok pyngrok uvicorn kaleido python-multipart cohere"
      ],
      "metadata": {
        "id": "vA_IPc0X-kO9"
      },
      "execution_count": null,
      "outputs": []
    },
    {
      "cell_type": "code",
      "source": [
        "# добавить в Секрет Колаба (ключ слева на панели) переменные окружения Authtoken, SECRET_OPENAI_KEY, git_token\n",
        "from google.colab import userdata\n",
        "git_token = userdata.get('git_token')"
      ],
      "metadata": {
        "id": "-zjHovcgC8Rx"
      },
      "execution_count": null,
      "outputs": []
    },
    {
      "cell_type": "code",
      "source": [
        "# или через getpass\n",
        "# from getpass import getpass\n",
        "# git_token = getpass()\n",
        "# SECRET_OPENAI_KEY = getpass()\n",
        "# Authtoken = getpass()"
      ],
      "metadata": {
        "id": "2hfmDWzk3jvk"
      },
      "execution_count": null,
      "outputs": []
    },
    {
      "cell_type": "code",
      "source": [
        "import os\n",
        "os.environ['SECRET_OPENAI_KEY'] = userdata.get('SECRET_OPENAI_KEY')\n",
        "# os.environ['SECRET_OPENAI_KEY'] = SECRET_OPENAI_KEY"
      ],
      "metadata": {
        "id": "MwfM_DzeKR-x"
      },
      "execution_count": null,
      "outputs": []
    },
    {
      "cell_type": "code",
      "source": [
        "Authtoken = userdata.get('Authtoken')\n",
        "# !ngrok config add-authtoken {Authtoken}\n",
        "!ngrok authtoken {Authtoken}"
      ],
      "metadata": {
        "id": "GGqdqtLAxBbF"
      },
      "execution_count": null,
      "outputs": []
    },
    {
      "cell_type": "code",
      "execution_count": null,
      "metadata": {
        "id": "kg3vt5-w9lL1"
      },
      "outputs": [],
      "source": [
        "!git clone -b develop https://{git_token}@github.com/your_project.git"
      ]
    },
    {
      "cell_type": "code",
      "source": [
        "# !pip install -r requerements"
      ],
      "metadata": {
        "id": "d9tPOmO9E1_f"
      },
      "execution_count": null,
      "outputs": []
    },
    {
      "cell_type": "code",
      "source": [
        "%cd /content/your_project/"
      ],
      "metadata": {
        "id": "w5Vb9S6pIspy"
      },
      "execution_count": null,
      "outputs": []
    },
    {
      "cell_type": "code",
      "source": [
        "!cp example.env .env"
      ],
      "metadata": {
        "id": "XPwi9XLC2r0d"
      },
      "execution_count": null,
      "outputs": []
    },
    {
      "cell_type": "code",
      "source": [
        "!nohup uvicorn main:app --reload &"
      ],
      "metadata": {
        "id": "0ie2zztyI4oL"
      },
      "execution_count": null,
      "outputs": []
    },
    {
      "cell_type": "code",
      "source": [
        "# !nohup uvicorn main:app --reload --host \"0.0.0.0\" --port \"8000\" &   # можно еще такой вариант потестить"
      ],
      "metadata": {
        "id": "xOANqI-d07ii"
      },
      "execution_count": null,
      "outputs": []
    },
    {
      "cell_type": "code",
      "source": [
        "from pyngrok import ngrok\n",
        "\n",
        "ngrok.kill()\n",
        "connection = ngrok.connect(8000)      # запускаем туннель на побличный адрес из локолхоста порт 8000\n",
        "print(f\"Public URL: {connection.public_url}\")"
      ],
      "metadata": {
        "id": "3MIvQxHpNk5F"
      },
      "execution_count": null,
      "outputs": []
    },
    {
      "cell_type": "markdown",
      "source": [
        "# Если сервер с GPT уже запущен, то начинаем отсюда!!!"
      ],
      "metadata": {
        "id": "ruPNftunsF86"
      }
    },
    {
      "cell_type": "code",
      "source": [
        "# проверяем работу\n",
        "url = connection.public_url   # укажите адрес сервера"
      ],
      "metadata": {
        "id": "bTNj0fGZOn_w"
      },
      "execution_count": null,
      "outputs": []
    },
    {
      "cell_type": "code",
      "source": [
        "import requests\n",
        "response = requests.get(url)    # проверка GET запроса"
      ],
      "metadata": {
        "id": "CsVfZfQ7OrNv"
      },
      "execution_count": null,
      "outputs": []
    },
    {
      "cell_type": "code",
      "source": [
        "print(response.status_code)\n",
        "print(response.text)"
      ],
      "metadata": {
        "id": "xe3s0ryIO3Uf"
      },
      "execution_count": null,
      "outputs": []
    },
    {
      "cell_type": "markdown",
      "source": [
        "### Проверяем работу с запросом"
      ],
      "metadata": {
        "id": "h7vgw9Qj7lPO"
      }
    },
    {
      "cell_type": "code",
      "source": [
        "message = \"привет\""
      ],
      "metadata": {
        "id": "MxX_CIl6pieS"
      },
      "execution_count": null,
      "outputs": []
    },
    {
      "cell_type": "code",
      "source": [
        "# Создайте словарь с данными, которые вы хотите отправить\n",
        "data = {\n",
        "    \"message\": message,\n",
        "    \"temperatura\": \"0\",\n",
        "    \"doc_count\": \"3\",\n",
        "    \"new_dialog\": \"0\"\n",
        "}"
      ],
      "metadata": {
        "id": "pKHA1j3iQ3Iu"
      },
      "execution_count": null,
      "outputs": []
    },
    {
      "cell_type": "code",
      "source": [
        "# data = {\n",
        "#     \"message\": \"hi\"\n",
        "# }"
      ],
      "metadata": {
        "id": "C0hXOMbDU3zD"
      },
      "execution_count": null,
      "outputs": []
    },
    {
      "cell_type": "code",
      "source": [
        "# Преобразуйте словарь в JSON\n",
        "import json\n",
        "json_data = json.dumps(data)"
      ],
      "metadata": {
        "id": "QPiXRKW8Q6t9"
      },
      "execution_count": null,
      "outputs": []
    },
    {
      "cell_type": "code",
      "source": [
        "json_data"
      ],
      "metadata": {
        "id": "YcI--ExcRuxJ"
      },
      "execution_count": null,
      "outputs": []
    },
    {
      "cell_type": "code",
      "source": [
        "url = f\"{connection.public_url}/message\"   # укажите адрес сервера"
      ],
      "metadata": {
        "id": "oqbt91cpTm4N"
      },
      "execution_count": null,
      "outputs": []
    },
    {
      "cell_type": "code",
      "source": [
        "# Отправьте POST-запрос\n",
        "response = requests.post(url, data=json_data, headers={\"Content-Type\": \"application/json\"})"
      ],
      "metadata": {
        "id": "9rdjGKk9Q9j5"
      },
      "execution_count": null,
      "outputs": []
    },
    {
      "cell_type": "code",
      "source": [
        "# проверка, является ли ответ json\n",
        "# if 'application/json' in response.headers['Content-Type']:\n",
        "#     response_json = response.json()\n",
        "# else:\n",
        "#     print('Response is not JSON')"
      ],
      "metadata": {
        "id": "DBg3q6C8qxdo"
      },
      "execution_count": null,
      "outputs": []
    },
    {
      "cell_type": "code",
      "source": [
        "response"
      ],
      "metadata": {
        "id": "yOuzRQhJq2T2"
      },
      "execution_count": null,
      "outputs": []
    },
    {
      "cell_type": "code",
      "source": [
        "# Выведите ответ\n",
        "print(response.status_code)\n",
        "print(response.json())"
      ],
      "metadata": {
        "id": "L7r4MDsVQ_6n"
      },
      "execution_count": null,
      "outputs": []
    },
    {
      "cell_type": "code",
      "source": [
        "response_json = response.json()\n",
        "answer_text = response_json['answer']['text']\n",
        "print(answer_text)"
      ],
      "metadata": {
        "id": "FpSh_2qpaDDY"
      },
      "execution_count": null,
      "outputs": []
    },
    {
      "cell_type": "code",
      "source": [
        "import re\n",
        "import requests\n",
        "from io import BytesIO\n",
        "import openpyxl\n",
        "import pandas as pd\n",
        "from tqdm.auto import tqdm\n",
        "import IPython"
      ],
      "metadata": {
        "id": "qLROF4Rnfw9M"
      },
      "execution_count": null,
      "outputs": []
    },
    {
      "cell_type": "code",
      "source": [
        "# @title функция для загрузки таблицы по ссылке из гугл драйв\n",
        "#def load_xls_pd(url: str) -> str:\n",
        "def load_xls_pd(url: str, sheet_name: str = 0) -> str:\n",
        "\n",
        "    # Extract the document ID from the URL\n",
        "    match_ = re.search('/spreadsheets/d/([a-zA-Z0-9-_]+)', url)\n",
        "    if match_ is None:\n",
        "        raise ValueError('Invalid Google Sheets URL')\n",
        "    doc_id = match_.group(1)\n",
        "\n",
        "    if sheet_name is None:\n",
        "        raise ValueError('Invalid sheet_name')\n",
        "\n",
        "    # Download the table as pandas\n",
        "    response = requests.get(f'https://docs.google.com/spreadsheets/d/{doc_id}/export?format=xlsx')\n",
        "    response.raise_for_status()     #проверяет статус код ответа. Если получен ответ с кодом ошибки (4xx или 5xx), вызывается исключение HTTPError.\n",
        "    #data = pd.read_excel(BytesIO(response.content), sheet_name=0)  #чтение первого листа из книги\n",
        "    data = pd.read_excel(BytesIO(response.content),sheet_name = sheet_name, header=None) #чтение конкретного листа из Книги Excel\n",
        "\n",
        "    return data"
      ],
      "metadata": {
        "id": "tV23QjU3j7y_"
      },
      "execution_count": null,
      "outputs": []
    },
    {
      "cell_type": "code",
      "source": [
        "# @title Загрузка таблицы для тестирования\n",
        "# Шаг 1: Загрузить xlsx файл из Google Drive\n",
        "google_sheet_url = \"https://docs.google.com/spreadsheets/d/1U4J6GgcamnRmV7mjhcbXxhTIsJwOVyKPqAVnimcHtR0/edit?usp=sharing\"\n",
        "sheet_name='Вопросы для тестирования'     # вставить название листа для заполнения вопросами\n",
        "\n",
        "#data = load_xls_pd(google_sheet_url)   #если в таблице только один лист\n",
        "df = load_xls_pd(google_sheet_url, sheet_name)"
      ],
      "metadata": {
        "id": "KQaAIXTOj9gG"
      },
      "execution_count": null,
      "outputs": []
    },
    {
      "cell_type": "code",
      "source": [
        "# проверка\n",
        "df.head()"
      ],
      "metadata": {
        "id": "1QluHmnqme3n"
      },
      "execution_count": null,
      "outputs": []
    },
    {
      "cell_type": "code",
      "source": [
        "# установить первую строку в виде строки заголовков столбцов\n",
        "df.set_axis(df.iloc[0], axis='columns', inplace=True)\n",
        "# проверка\n",
        "df.info()\n",
        "df.head()"
      ],
      "metadata": {
        "id": "lVKj4SYvmvKa"
      },
      "execution_count": null,
      "outputs": []
    },
    {
      "cell_type": "markdown",
      "source": [
        "\n",
        "### Сохранение ответов ChatGPT и чанков в таблицу\n",
        "\n"
      ],
      "metadata": {
        "id": "F36PZrSXnaSL"
      }
    },
    {
      "cell_type": "code",
      "source": [
        "# Переменная для подсчета количества строк, обработанных по условию\n",
        "count = 0\n",
        "print('Количество обработанных запросов: ')\n",
        "# Цикл для обхода строк DataFrame\n",
        "for index, row in tqdm(df.iterrows()):\n",
        "    # if (row['Тема'] == 'Аксесуары') & (pd.isna(row['Ответ GPT'])):       # Выбираем строки со своей Темой для тестирования, и если в строке еще нет ответа\n",
        "    if (pd.isna(row['Ответ GPT'])):       # Выбираем строки если в строке еще нет ответа\n",
        "        # Ваш код для обработки данных текущей строки\n",
        "        # Создайте словарь с данными, которые вы хотите отправить\n",
        "        message = row['Вопрос']\n",
        "        data = {\n",
        "            \"message\": message,\n",
        "            \"temperatura\": \"0\",\n",
        "            \"doc_count\": \"3\",\n",
        "            \"new_dialog\": \"0\"\n",
        "        }\n",
        "        # Преобразуйте словарь в JSON\n",
        "        json_data = json.dumps(data)\n",
        "\n",
        "        # Отправьте POST-запрос\n",
        "        response = requests.post(url, data=json_data, headers={\"Content-Type\": \"application/json\"})\n",
        "\n",
        "        # записываем ответ в соответствующий столбец\n",
        "        response_json = response.json()\n",
        "        answer = response_json['answer']['text']\n",
        "        urls = response_json['answer']['urls']\n",
        "        answer_time = response_json['answer']['answer_time']\n",
        "        # chanks = response_json['answer']['chanks']\n",
        "        # Записываем результат в столбец \"Ответ\"\n",
        "        df.at[index, 'Ответ GPT'] = answer\n",
        "        # Записываем чанки\n",
        "        # df.at[index, 'Чанки'] = chanks\n",
        "        # Записываем чанки\n",
        "        df.at[index, 'Ссылки'] = urls\n",
        "        # Записываем чанки\n",
        "        df.at[index, 'Время ответа'] = answer_time\n",
        "\n",
        "        # Увеличиваем значение счетчика и проверяем, достигли ли мы нужного количества запросов\n",
        "        count += 1\n",
        "        print(count, end=' ')\n",
        "        if count >= 5:          # количество задаваемых вопросов к ChatGPT\n",
        "            break\n"
      ],
      "metadata": {
        "colab": {
          "base_uri": "https://localhost:8080/",
          "height": 83,
          "referenced_widgets": [
            "de919490daf848fbb9ef5658b00a4483",
            "a1bf13b599734045b35d7221a61d432e",
            "7e7ff84785e146e888f2db8e0f10f948",
            "aefca95c0b1e4c11be4123d78a8dca69",
            "1f628dad32ec4e0498c11515d27c413c",
            "a2ac40e2a1534264a168f7f430afdb78",
            "f7770a35846c4fa99d1a37d764151cf4",
            "964b61617b374c0f92bdaa72fdc850d8",
            "d5422e1d701145d1a85efad5836996cb",
            "5458441b750e4db89c5a00ac8af4fb2c",
            "e97ad3e406d14e109bbfefed1923079e"
          ]
        },
        "id": "30bJBfekmu-U",
        "outputId": "7d85ed90-76cb-4516-d8dd-8b5709606ec9"
      },
      "execution_count": null,
      "outputs": [
        {
          "output_type": "stream",
          "name": "stdout",
          "text": [
            "Количество обработанных запросов: \n"
          ]
        },
        {
          "output_type": "display_data",
          "data": {
            "text/plain": [
              "0it [00:00, ?it/s]"
            ],
            "application/vnd.jupyter.widget-view+json": {
              "version_major": 2,
              "version_minor": 0,
              "model_id": "de919490daf848fbb9ef5658b00a4483"
            }
          },
          "metadata": {}
        },
        {
          "output_type": "stream",
          "name": "stdout",
          "text": [
            "1 2 3 4 5 "
          ]
        }
      ]
    },
    {
      "cell_type": "code",
      "source": [
        "# df[df['Тема'] == 'Аксесуары'][['Вопрос', 'Ответ GPT', 'Чанки']].head(15)   #проверка записей в таблице\n",
        "df[['Вопрос', 'Ответ GPT', 'Ссылки', 'Время ответа', 'Чанки']].head(10)   #проверка записей в таблице"
      ],
      "metadata": {
        "id": "Qk9z1sEV-p3k"
      },
      "execution_count": null,
      "outputs": []
    },
    {
      "cell_type": "code",
      "source": [
        "# df[(df['Тема'] == 'Аксесуары') & (df['Ответ GPT'].isna())].head(10) #проверка пустых записей в таблице\n",
        "df[(df['Ответ GPT'].isna())].head(10) #проверка пустых записей в таблице"
      ],
      "metadata": {
        "id": "nV3pbtxt-pz6"
      },
      "execution_count": null,
      "outputs": []
    },
    {
      "cell_type": "code",
      "source": [
        "df[['Вопрос', 'Ответ GPT', 'Ссылки', 'Время ответа', 'Чанки']].iloc[23:28]     # вывод строк с 7 по 12"
      ],
      "metadata": {
        "id": "tsQ0pTHBEHwe"
      },
      "execution_count": null,
      "outputs": []
    },
    {
      "cell_type": "code",
      "source": [
        "df.to_excel('/content/test.xlsx')      # загрузка df в таблицу 'test.xlsx'"
      ],
      "metadata": {
        "id": "OI3dZjC_-pvP"
      },
      "execution_count": null,
      "outputs": []
    },
    {
      "cell_type": "code",
      "source": [
        "# если результат плохой, можно править код или промпты прямо в колабе в папке слева, при этом сервер перезапускать не нужно.\n",
        "# потом нужно сохранить измененные файлы на Github.\n"
      ],
      "metadata": {
        "id": "nS8yoPyzmu6i"
      },
      "execution_count": null,
      "outputs": []
    },
    {
      "cell_type": "code",
      "source": [
        "!pkill uvicorn    #Для завершения всех фоновых процессов\n",
        "ngrok.kill()"
      ],
      "metadata": {
        "id": "iIOOt0aGfwtU"
      },
      "execution_count": null,
      "outputs": []
    }
  ]
}